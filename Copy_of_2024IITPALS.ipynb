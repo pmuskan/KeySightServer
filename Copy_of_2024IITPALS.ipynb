{
  "nbformat": 4,
  "nbformat_minor": 0,
  "metadata": {
    "colab": {
      "provenance": [],
      "authorship_tag": "ABX9TyPoDgIl0II0BoVvaHPgzqe4",
      "include_colab_link": true
    },
    "kernelspec": {
      "name": "python3",
      "display_name": "Python 3"
    },
    "language_info": {
      "name": "python"
    }
  },
  "cells": [
    {
      "cell_type": "markdown",
      "metadata": {
        "id": "view-in-github",
        "colab_type": "text"
      },
      "source": [
        "<a href=\"https://colab.research.google.com/github/pmuskan/KeySightServer/blob/BelTech/Copy_of_2024IITPALS.ipynb\" target=\"_parent\"><img src=\"https://colab.research.google.com/assets/colab-badge.svg\" alt=\"Open In Colab\"/></a>"
      ]
    },
    {
      "cell_type": "code",
      "source": [
        "import pandas as pd\n",
        "import numpy as np\n",
        "from prophet import Prophet\n",
        "from keras.models import Sequential\n",
        "from keras.layers import LSTM, Dense\n",
        "from sklearn.preprocessing import MinMaxScaler\n",
        "from statsmodels.tsa.arima.model import ARIMA\n",
        "from statsmodels.tsa.statespace.sarimax import SARIMAX\n",
        "from sklearn.metrics import mean_squared_error\n",
        "\n"
      ],
      "metadata": {
        "id": "zSq8LsepoQBX"
      },
      "execution_count": null,
      "outputs": []
    },
    {
      "cell_type": "code",
      "source": [
        "# Load your CO2 emissions data\n",
        "# Assuming your data has a 'date' column and a 'co2_emissions' column\n",
        "data = pd.read_excel('/content/ENSEMBEL.xlsx')\n",
        "\n"
      ],
      "metadata": {
        "colab": {
          "base_uri": "https://localhost:8080/"
        },
        "id": "UKxT15Sjo8aN",
        "outputId": "4d537a2f-df74-4a63-d890-18646ca5fa0f"
      },
      "execution_count": null,
      "outputs": [
        {
          "output_type": "stream",
          "name": "stderr",
          "text": [
            "<ipython-input-80-c89d2bfe6000>:3: FutureWarning: Inferring datetime64[ns] from data containing strings is deprecated and will be removed in a future version. To retain the old behavior explicitly pass Series(data, dtype=datetime64[ns])\n",
            "  data = pd.read_excel('/content/ENSEMBEL.xlsx')\n"
          ]
        }
      ]
    },
    {
      "cell_type": "code",
      "source": [
        "# Prophet model\n",
        "prophet_data = data.rename(columns={'YEAR': 'ds', 'CO2': 'y'})\n",
        "prophet_model = Prophet()\n",
        "prophet_model.fit(prophet_data)\n",
        "future = prophet_model.make_future_dataframe(periods=365)  # Predict for 1 year\n",
        "prophet_forecast = prophet_model.predict(future)"
      ],
      "metadata": {
        "colab": {
          "base_uri": "https://localhost:8080/"
        },
        "id": "eXcRwhoFpIJT",
        "outputId": "2ed18b00-6d71-4b02-a785-067fb126253b"
      },
      "execution_count": null,
      "outputs": [
        {
          "output_type": "stream",
          "name": "stderr",
          "text": [
            "INFO:prophet:Disabling weekly seasonality. Run prophet with weekly_seasonality=True to override this.\n",
            "INFO:prophet:Disabling daily seasonality. Run prophet with daily_seasonality=True to override this.\n",
            "DEBUG:cmdstanpy:input tempfile: /tmp/tmp3nqu2hz3/zdh2yj5a.json\n",
            "DEBUG:cmdstanpy:input tempfile: /tmp/tmp3nqu2hz3/ia2l7iah.json\n",
            "DEBUG:cmdstanpy:idx 0\n",
            "DEBUG:cmdstanpy:running CmdStan, num_threads: None\n",
            "DEBUG:cmdstanpy:CmdStan args: ['/usr/local/lib/python3.10/dist-packages/prophet/stan_model/prophet_model.bin', 'random', 'seed=50850', 'data', 'file=/tmp/tmp3nqu2hz3/zdh2yj5a.json', 'init=/tmp/tmp3nqu2hz3/ia2l7iah.json', 'output', 'file=/tmp/tmp3nqu2hz3/prophet_modelmw0uj9s3/prophet_model-20240217080643.csv', 'method=optimize', 'algorithm=lbfgs', 'iter=10000']\n",
            "08:06:43 - cmdstanpy - INFO - Chain [1] start processing\n",
            "INFO:cmdstanpy:Chain [1] start processing\n",
            "08:06:43 - cmdstanpy - INFO - Chain [1] done processing\n",
            "INFO:cmdstanpy:Chain [1] done processing\n"
          ]
        }
      ]
    },
    {
      "cell_type": "code",
      "source": [
        "# LSTM model\n",
        "lstm_data = data['CO2'].values.reshape(-1, 1)\n",
        "scaler = MinMaxScaler(feature_range=(0, 1))\n",
        "scaled_data = scaler.fit_transform(lstm_data)\n",
        "def create_dataset(data, time_step=1):\n",
        "    X, y = [], []\n",
        "    for i in range(len(data) - time_step - 1):\n",
        "        X.append(data[i:(i + time_step), 0])\n",
        "        y.append(data[i + time_step, 0])\n",
        "    return np.array(X), np.array(y)\n",
        "\n",
        "time_step = 10\n",
        "X_lstm, y_lstm = create_dataset(scaled_data, time_step)\n",
        "X_lstm = X_lstm.reshape(X_lstm.shape[0], X_lstm.shape[1], 1)\n",
        "\n",
        "lstm_model = Sequential()\n",
        "lstm_model.add(LSTM(units=50, return_sequences=True, input_shape=(time_step, 1)))\n",
        "lstm_model.add(LSTM(units=50))\n",
        "lstm_model.add(Dense(1))\n",
        "a=lstm_model.compile(optimizer='adam', loss='mean_squared_error')\n",
        "a=lstm_model.fit(X_lstm, y_lstm, epochs=100, batch_size=32)\n",
        "\n"
      ],
      "metadata": {
        "colab": {
          "base_uri": "https://localhost:8080/"
        },
        "id": "j3a0f5V7pYa6",
        "outputId": "c5ab6f9f-11af-4270-fe5b-fa2923f3d637"
      },
      "execution_count": null,
      "outputs": [
        {
          "output_type": "stream",
          "name": "stdout",
          "text": [
            "Epoch 1/100\n",
            "4/4 [==============================] - 7s 19ms/step - loss: 0.3759\n",
            "Epoch 2/100\n",
            "4/4 [==============================] - 0s 19ms/step - loss: 0.1721\n",
            "Epoch 3/100\n",
            "4/4 [==============================] - 0s 16ms/step - loss: 0.0317\n",
            "Epoch 4/100\n",
            "4/4 [==============================] - 0s 18ms/step - loss: 0.0308\n",
            "Epoch 5/100\n",
            "4/4 [==============================] - 0s 18ms/step - loss: 0.0299\n",
            "Epoch 6/100\n",
            "4/4 [==============================] - 0s 20ms/step - loss: 0.0061\n",
            "Epoch 7/100\n",
            "4/4 [==============================] - 0s 20ms/step - loss: 0.0123\n",
            "Epoch 8/100\n",
            "4/4 [==============================] - 0s 19ms/step - loss: 0.0138\n",
            "Epoch 9/100\n",
            "4/4 [==============================] - 0s 20ms/step - loss: 0.0073\n",
            "Epoch 10/100\n",
            "4/4 [==============================] - 0s 16ms/step - loss: 0.0051\n",
            "Epoch 11/100\n",
            "4/4 [==============================] - 0s 19ms/step - loss: 0.0073\n",
            "Epoch 12/100\n",
            "4/4 [==============================] - 0s 20ms/step - loss: 0.0058\n",
            "Epoch 13/100\n",
            "4/4 [==============================] - 0s 20ms/step - loss: 0.0046\n",
            "Epoch 14/100\n",
            "4/4 [==============================] - 0s 19ms/step - loss: 0.0052\n",
            "Epoch 15/100\n",
            "4/4 [==============================] - 0s 26ms/step - loss: 0.0050\n",
            "Epoch 16/100\n",
            "4/4 [==============================] - 0s 21ms/step - loss: 0.0045\n",
            "Epoch 17/100\n",
            "4/4 [==============================] - 0s 20ms/step - loss: 0.0045\n",
            "Epoch 18/100\n",
            "4/4 [==============================] - 0s 13ms/step - loss: 0.0044\n",
            "Epoch 19/100\n",
            "4/4 [==============================] - 0s 12ms/step - loss: 0.0043\n",
            "Epoch 20/100\n",
            "4/4 [==============================] - 0s 12ms/step - loss: 0.0043\n",
            "Epoch 21/100\n",
            "4/4 [==============================] - 0s 17ms/step - loss: 0.0043\n",
            "Epoch 22/100\n",
            "4/4 [==============================] - 0s 11ms/step - loss: 0.0042\n",
            "Epoch 23/100\n",
            "4/4 [==============================] - 0s 11ms/step - loss: 0.0041\n",
            "Epoch 24/100\n",
            "4/4 [==============================] - 0s 11ms/step - loss: 0.0041\n",
            "Epoch 25/100\n",
            "4/4 [==============================] - 0s 12ms/step - loss: 0.0041\n",
            "Epoch 26/100\n",
            "4/4 [==============================] - 0s 12ms/step - loss: 0.0041\n",
            "Epoch 27/100\n",
            "4/4 [==============================] - 0s 13ms/step - loss: 0.0041\n",
            "Epoch 28/100\n",
            "4/4 [==============================] - 0s 12ms/step - loss: 0.0041\n",
            "Epoch 29/100\n",
            "4/4 [==============================] - 0s 12ms/step - loss: 0.0041\n",
            "Epoch 30/100\n",
            "4/4 [==============================] - 0s 12ms/step - loss: 0.0041\n",
            "Epoch 31/100\n",
            "4/4 [==============================] - 0s 13ms/step - loss: 0.0041\n",
            "Epoch 32/100\n",
            "4/4 [==============================] - 0s 12ms/step - loss: 0.0040\n",
            "Epoch 33/100\n",
            "4/4 [==============================] - 0s 13ms/step - loss: 0.0040\n",
            "Epoch 34/100\n",
            "4/4 [==============================] - 0s 13ms/step - loss: 0.0040\n",
            "Epoch 35/100\n",
            "4/4 [==============================] - 0s 12ms/step - loss: 0.0041\n",
            "Epoch 36/100\n",
            "4/4 [==============================] - 0s 13ms/step - loss: 0.0040\n",
            "Epoch 37/100\n",
            "4/4 [==============================] - 0s 13ms/step - loss: 0.0040\n",
            "Epoch 38/100\n",
            "4/4 [==============================] - 0s 13ms/step - loss: 0.0040\n",
            "Epoch 39/100\n",
            "4/4 [==============================] - 0s 19ms/step - loss: 0.0040\n",
            "Epoch 40/100\n",
            "4/4 [==============================] - 0s 11ms/step - loss: 0.0040\n",
            "Epoch 41/100\n",
            "4/4 [==============================] - 0s 11ms/step - loss: 0.0040\n",
            "Epoch 42/100\n",
            "4/4 [==============================] - 0s 11ms/step - loss: 0.0040\n",
            "Epoch 43/100\n",
            "4/4 [==============================] - 0s 11ms/step - loss: 0.0040\n",
            "Epoch 44/100\n",
            "4/4 [==============================] - 0s 12ms/step - loss: 0.0040\n",
            "Epoch 45/100\n",
            "4/4 [==============================] - 0s 12ms/step - loss: 0.0040\n",
            "Epoch 46/100\n",
            "4/4 [==============================] - 0s 11ms/step - loss: 0.0040\n",
            "Epoch 47/100\n",
            "4/4 [==============================] - 0s 12ms/step - loss: 0.0040\n",
            "Epoch 48/100\n",
            "4/4 [==============================] - 0s 12ms/step - loss: 0.0040\n",
            "Epoch 49/100\n",
            "4/4 [==============================] - 0s 11ms/step - loss: 0.0040\n",
            "Epoch 50/100\n",
            "4/4 [==============================] - 0s 11ms/step - loss: 0.0040\n",
            "Epoch 51/100\n",
            "4/4 [==============================] - 0s 12ms/step - loss: 0.0041\n",
            "Epoch 52/100\n",
            "4/4 [==============================] - 0s 11ms/step - loss: 0.0040\n",
            "Epoch 53/100\n",
            "4/4 [==============================] - 0s 12ms/step - loss: 0.0041\n",
            "Epoch 54/100\n",
            "4/4 [==============================] - 0s 11ms/step - loss: 0.0040\n",
            "Epoch 55/100\n",
            "4/4 [==============================] - 0s 11ms/step - loss: 0.0040\n",
            "Epoch 56/100\n",
            "4/4 [==============================] - 0s 12ms/step - loss: 0.0040\n",
            "Epoch 57/100\n",
            "4/4 [==============================] - 0s 11ms/step - loss: 0.0040\n",
            "Epoch 58/100\n",
            "4/4 [==============================] - 0s 15ms/step - loss: 0.0040\n",
            "Epoch 59/100\n",
            "4/4 [==============================] - 0s 11ms/step - loss: 0.0040\n",
            "Epoch 60/100\n",
            "4/4 [==============================] - 0s 12ms/step - loss: 0.0040\n",
            "Epoch 61/100\n",
            "4/4 [==============================] - 0s 12ms/step - loss: 0.0041\n",
            "Epoch 62/100\n",
            "4/4 [==============================] - 0s 12ms/step - loss: 0.0040\n",
            "Epoch 63/100\n",
            "4/4 [==============================] - 0s 12ms/step - loss: 0.0040\n",
            "Epoch 64/100\n",
            "4/4 [==============================] - 0s 15ms/step - loss: 0.0040\n",
            "Epoch 65/100\n",
            "4/4 [==============================] - 0s 17ms/step - loss: 0.0040\n",
            "Epoch 66/100\n",
            "4/4 [==============================] - 0s 17ms/step - loss: 0.0040\n",
            "Epoch 67/100\n",
            "4/4 [==============================] - 0s 16ms/step - loss: 0.0040\n",
            "Epoch 68/100\n",
            "4/4 [==============================] - 0s 16ms/step - loss: 0.0040\n",
            "Epoch 69/100\n",
            "4/4 [==============================] - 0s 17ms/step - loss: 0.0041\n",
            "Epoch 70/100\n",
            "4/4 [==============================] - 0s 17ms/step - loss: 0.0040\n",
            "Epoch 71/100\n",
            "4/4 [==============================] - 0s 15ms/step - loss: 0.0040\n",
            "Epoch 72/100\n",
            "4/4 [==============================] - 0s 16ms/step - loss: 0.0040\n",
            "Epoch 73/100\n",
            "4/4 [==============================] - 0s 16ms/step - loss: 0.0040\n",
            "Epoch 74/100\n",
            "4/4 [==============================] - 0s 22ms/step - loss: 0.0040\n",
            "Epoch 75/100\n",
            "4/4 [==============================] - 0s 16ms/step - loss: 0.0040\n",
            "Epoch 76/100\n",
            "4/4 [==============================] - 0s 16ms/step - loss: 0.0040\n",
            "Epoch 77/100\n",
            "4/4 [==============================] - 0s 17ms/step - loss: 0.0040\n",
            "Epoch 78/100\n",
            "4/4 [==============================] - 0s 16ms/step - loss: 0.0040\n",
            "Epoch 79/100\n",
            "4/4 [==============================] - 0s 16ms/step - loss: 0.0040\n",
            "Epoch 80/100\n",
            "4/4 [==============================] - 0s 20ms/step - loss: 0.0040\n",
            "Epoch 81/100\n",
            "4/4 [==============================] - 0s 19ms/step - loss: 0.0040\n",
            "Epoch 82/100\n",
            "4/4 [==============================] - 0s 19ms/step - loss: 0.0040\n",
            "Epoch 83/100\n",
            "4/4 [==============================] - 0s 17ms/step - loss: 0.0040\n",
            "Epoch 84/100\n",
            "4/4 [==============================] - 0s 20ms/step - loss: 0.0040\n",
            "Epoch 85/100\n",
            "4/4 [==============================] - 0s 22ms/step - loss: 0.0040\n",
            "Epoch 86/100\n",
            "4/4 [==============================] - 0s 20ms/step - loss: 0.0039\n",
            "Epoch 87/100\n",
            "4/4 [==============================] - 0s 20ms/step - loss: 0.0040\n",
            "Epoch 88/100\n",
            "4/4 [==============================] - 0s 20ms/step - loss: 0.0039\n",
            "Epoch 89/100\n",
            "4/4 [==============================] - 0s 19ms/step - loss: 0.0040\n",
            "Epoch 90/100\n",
            "4/4 [==============================] - 0s 20ms/step - loss: 0.0039\n",
            "Epoch 91/100\n",
            "4/4 [==============================] - 0s 19ms/step - loss: 0.0040\n",
            "Epoch 92/100\n",
            "4/4 [==============================] - 0s 17ms/step - loss: 0.0039\n",
            "Epoch 93/100\n",
            "4/4 [==============================] - 0s 19ms/step - loss: 0.0040\n",
            "Epoch 94/100\n",
            "4/4 [==============================] - 0s 17ms/step - loss: 0.0040\n",
            "Epoch 95/100\n",
            "4/4 [==============================] - 0s 21ms/step - loss: 0.0041\n",
            "Epoch 96/100\n",
            "4/4 [==============================] - 0s 19ms/step - loss: 0.0039\n",
            "Epoch 97/100\n",
            "4/4 [==============================] - 0s 20ms/step - loss: 0.0039\n",
            "Epoch 98/100\n",
            "4/4 [==============================] - 0s 20ms/step - loss: 0.0039\n",
            "Epoch 99/100\n",
            "4/4 [==============================] - 0s 17ms/step - loss: 0.0040\n",
            "Epoch 100/100\n",
            "4/4 [==============================] - 0s 17ms/step - loss: 0.0039\n"
          ]
        }
      ]
    },
    {
      "cell_type": "code",
      "source": [
        "# Assuming lstm_prediction contains the predicted values from the LSTM model\n",
        "# Assuming lstm_model is your trained LSTM model and X_test is your test data\n",
        "#lstm_predictions = lstm_model.predict(X_test)\n",
        "\n",
        "print(\"LSTM Predictions:\", a)\n"
      ],
      "metadata": {
        "colab": {
          "base_uri": "https://localhost:8080/"
        },
        "id": "_Sq1gJlS2tqo",
        "outputId": "2bd8f3dc-33d2-4eda-9e2d-94a9b5a67241"
      },
      "execution_count": null,
      "outputs": [
        {
          "output_type": "stream",
          "name": "stdout",
          "text": [
            "LSTM Predictions: <keras.src.callbacks.History object at 0x795fb172c760>\n"
          ]
        }
      ]
    },
    {
      "cell_type": "code",
      "source": [
        "    # ARIMA model\n",
        "arima_model = ARIMA(data['CO2'], order=(5,1,0))\n",
        "arima_fit = arima_model.fit()\n",
        "arima_forecast = arima_fit.forecast(steps=365)\n",
        "\n",
        "# SARIMA model\n",
        "sarima_model = SARIMAX(data['CO2'], order=(1, 1, 1), seasonal_order=(1, 1, 1, 12))\n",
        "sarima_fit = sarima_model.fit()\n",
        "sarima_forecast = sarima_fit.forecast(steps=365)\n"
      ],
      "metadata": {
        "id": "pImbr8cJp2Kt"
      },
      "execution_count": null,
      "outputs": []
    },
    {
      "cell_type": "code",
      "source": [
        "prophet_prediction = prophet_forecast[['ds', 'yhat']].tail(365)  # Assuming you want the last 365 days\n",
        "print(prophet_prediction)\n"
      ],
      "metadata": {
        "colab": {
          "base_uri": "https://localhost:8080/"
        },
        "id": "6ZbgUjvWuhly",
        "outputId": "7ca242bf-9c19-422f-f2fd-697294c04839"
      },
      "execution_count": null,
      "outputs": [
        {
          "output_type": "stream",
          "name": "stdout",
          "text": [
            "            ds        yhat\n",
            "132 2025-12-02  422.565098\n",
            "133 2025-12-03  420.550603\n",
            "134 2025-12-04  418.424457\n",
            "135 2025-12-05  416.216682\n",
            "136 2025-12-06  413.961739\n",
            "..         ...         ...\n",
            "492 2026-11-27  436.456111\n",
            "493 2026-11-28  435.315475\n",
            "494 2026-11-29  433.990919\n",
            "495 2026-11-30  432.484992\n",
            "496 2026-12-01  430.805373\n",
            "\n",
            "[365 rows x 2 columns]\n"
          ]
        }
      ]
    },
    {
      "cell_type": "code",
      "source": [
        "arima_prediction = arima_forecast[-365:]  # Assuming you want the last 365 days\n",
        "print(arima_prediction)"
      ],
      "metadata": {
        "colab": {
          "base_uri": "https://localhost:8080/"
        },
        "id": "KyY04DNOuqzY",
        "outputId": "fe9962fe-2dc2-42dc-cb62-6245af31905c"
      },
      "execution_count": null,
      "outputs": [
        {
          "output_type": "stream",
          "name": "stdout",
          "text": [
            "132    426.992352\n",
            "133    426.426048\n",
            "134    426.582566\n",
            "135    426.607803\n",
            "136    426.655260\n",
            "          ...    \n",
            "492    426.610513\n",
            "493    426.610513\n",
            "494    426.610513\n",
            "495    426.610513\n",
            "496    426.610513\n",
            "Name: predicted_mean, Length: 365, dtype: float64\n"
          ]
        }
      ]
    },
    {
      "cell_type": "code",
      "source": [
        "sarima_prediction = sarima_forecast[-365:]  # Assuming you want the last 365 days\n",
        "print(sarima_prediction)"
      ],
      "metadata": {
        "colab": {
          "base_uri": "https://localhost:8080/"
        },
        "id": "MRoeCjW4uxvD",
        "outputId": "aad95124-6ebc-4cc6-d356-1add0bc22dad"
      },
      "execution_count": null,
      "outputs": [
        {
          "output_type": "stream",
          "name": "stdout",
          "text": [
            "132    427.843489\n",
            "133    429.867098\n",
            "134    426.602907\n",
            "135    424.987406\n",
            "136    428.795790\n",
            "          ...    \n",
            "492    593.122061\n",
            "493    595.429779\n",
            "494    591.960204\n",
            "495    590.734312\n",
            "496    594.115813\n",
            "Name: predicted_mean, Length: 365, dtype: float64\n"
          ]
        }
      ]
    },
    {
      "cell_type": "code",
      "source": [
        "from sklearn.model_selection import train_test_split\n",
        "from sklearn.ensemble import GradientBoostingRegressor, RandomForestRegressor\n",
        "\n",
        "# Assuming you have features X and target variable y\n",
        "X = data.drop(columns=['CO2'])\n",
        "y = data['CO2']\n",
        "\n",
        "# Splitting data into training and testing sets\n",
        "X_train, X_test, y_train, y_test = train_test_split(X, y, test_size=0.2, random_state=42)\n",
        "\n",
        "# Gradient Boosting Regressor model\n",
        "gb_model = GradientBoostingRegressor()\n",
        "gb_model.fit(X_train, y_train)\n",
        "gb_prediction = gb_model.predict(X_test)\n",
        "\n",
        "# Random Forest Regressor model\n",
        "rf_model = RandomForestRegressor()\n",
        "rf_model.fit(X_train, y_train)\n",
        "rf_prediction = rf_model.predict(X_test)\n",
        "\n",
        "# Calculate ensemble result\n",
        "#ensemble_prediction = (prophet_prediction['yhat'].values + arima_prediction + sarima_prediction + gb_prediction + rf_prediction) / 6\n",
        "print(\"Gradient Boosting Regressor Prediction:\", gb_prediction)\n",
        "print(\"Random Forest Regressor Prediction:\", rf_prediction)\n"
      ],
      "metadata": {
        "colab": {
          "base_uri": "https://localhost:8080/"
        },
        "id": "s-JHcaKjwMb_",
        "outputId": "503e3663-d9be-44b3-e0a1-34d534f544b7"
      },
      "execution_count": null,
      "outputs": [
        {
          "output_type": "stream",
          "name": "stdout",
          "text": [
            "Gradient Boosting Regressor Prediction: [398.56232388 404.01513615 368.81760934 384.31239036 403.40351304\n",
            " 420.43955354 398.56232388 424.78128028 406.90784406 389.59293587\n",
            " 398.51701625 382.2494027  398.51701625 355.36521328 411.69745241\n",
            " 415.33020048 388.34059056 404.43922893 398.51701625 404.2178152\n",
            " 373.59431444 353.15608814 398.51701625 359.93714772 414.47849555\n",
            " 404.97445721 425.47629858]\n",
            "Random Forest Regressor Prediction: [398.6176     403.09282989 367.5354     384.6208     403.4725\n",
            " 420.57369326 398.5384     425.30373317 406.9837     387.9676\n",
            " 398.4901     383.262      398.4997     355.0536     411.4700184\n",
            " 416.03485881 391.5243     404.49898391 398.604      404.9078\n",
            " 370.7817     353.6441     398.5034     359.7179     413.97127237\n",
            " 405.9021     425.19970527]\n"
          ]
        }
      ]
    },
    {
      "cell_type": "code",
      "source": [
        "gb_prediction = pd.Series(gb_prediction)\n",
        "rf_prediction = pd.Series(rf_prediction)"
      ],
      "metadata": {
        "id": "hwY2zjM2yTLk"
      },
      "execution_count": null,
      "outputs": []
    },
    {
      "cell_type": "code",
      "source": [
        "print(prophet_prediction.dtypes)\n",
        "print(arima_prediction.dtypes)\n",
        "print(sarima_prediction.dtypes)\n",
        "print(gb_prediction.dtypes)\n",
        "print(rf_prediction.dtypes)"
      ],
      "metadata": {
        "colab": {
          "base_uri": "https://localhost:8080/"
        },
        "id": "W_qFmyewx64o",
        "outputId": "ff183d7a-7d07-43f8-deec-da00bc380c09"
      },
      "execution_count": null,
      "outputs": [
        {
          "output_type": "stream",
          "name": "stdout",
          "text": [
            "ds      datetime64[ns]\n",
            "yhat           float64\n",
            "dtype: object\n",
            "float64\n",
            "float64\n",
            "float64\n",
            "float64\n"
          ]
        }
      ]
    },
    {
      "cell_type": "code",
      "source": [
        "# Assuming all models provide predictions for the same test set\n",
        "common_length = min(len(prophet_prediction),len(arima_prediction), len(sarima_prediction), len(gb_prediction), len(rf_prediction))\n",
        "\n",
        "# Selecting the common subset of predictions\n",
        "prophet_prediction = prophet_prediction[:common_length]\n",
        "arima_prediction = arima_prediction[:common_length]\n",
        "sarima_prediction = sarima_prediction[:common_length]\n",
        "gb_prediction = gb_prediction[:common_length]\n",
        "rf_prediction = rf_prediction[:common_length]\n",
        "# Assuming prophet_prediction is the datetime-like object\n",
        "prophet_prediction[\"ds\"] = pd.to_numeric(prophet_prediction[\"ds\"])\n",
        "\n",
        "# Calculate ensemble result\n",
        "#ensemble_prediction = (prophet_prediction + arima_prediction + sarima_prediction + gb_prediction + rf_prediction) / 6"
      ],
      "metadata": {
        "id": "fH4-lWaXxbzH"
      },
      "execution_count": null,
      "outputs": []
    },
    {
      "cell_type": "code",
      "source": [
        "# Calculate ensemble result\n",
        "ensemble_predictions = [prophet_prediction['yhat'].values,arima_prediction, sarima_prediction, gb_prediction, rf_prediction]\n",
        "for prediction in ensemble_predictions:\n",
        "    print(\"Length of prediction array:\", len(prediction))\n",
        "\n",
        "try:\n",
        "    ensemble_prediction = np.nanmean(ensemble_predictions, axis=0)  # Take the average ignoring NaN values\n",
        "except Exception as e:\n",
        "    print(\"Error occurred during ensemble calculation:\", e)\n",
        "\n",
        "print(\"Ensemble Prediction:\", ensemble_prediction)\n"
      ],
      "metadata": {
        "colab": {
          "base_uri": "https://localhost:8080/"
        },
        "id": "mXGaH0APzuhe",
        "outputId": "d01c8dbe-7f54-40cf-a402-d75a3c8ff697"
      },
      "execution_count": null,
      "outputs": [
        {
          "output_type": "stream",
          "name": "stdout",
          "text": [
            "Length of prediction array: 27\n",
            "Length of prediction array: 27\n",
            "Length of prediction array: 27\n",
            "Length of prediction array: 27\n",
            "Length of prediction array: 27\n",
            "Ensemble Prediction: [414.91617247 416.79034294 401.59258791 407.34901617 415.25776044\n",
            " 421.94425514 413.16295376 423.26607681 415.75270802 407.8526137\n",
            " 411.64612821 404.79955606 411.20234165 394.18508577 415.94251681\n",
            " 417.32061768 407.74271477 414.01559908 412.29774461 414.9559406\n",
            " 402.50341496 395.07740088 413.83930665 398.6438247  421.28297888\n",
            " 418.81821623 426.69234699]\n"
          ]
        }
      ]
    },
    {
      "cell_type": "code",
      "source": [
        "df2=pd.DataFrame({\"ensemble_predictions\":ensemble_predictions})\n",
        "df2.to_excel('finalresult.xlsx',index=False)"
      ],
      "metadata": {
        "id": "K9qG3KgaLyAi"
      },
      "execution_count": null,
      "outputs": []
    },
    {
      "cell_type": "code",
      "source": [
        "import pandas as pd\n",
        "\n",
        "# Create a DataFrame containing the predictions from each model\n",
        "df = pd.DataFrame({\n",
        "    'Date': data['YEAR'],  # Assuming data['date'] contains the dates\n",
        "    'Prophet_Prediction': prophet_prediction['yhat'],  # Assuming prophet_prediction contains the Prophet predictions\n",
        "    'ARIMA_Prediction': arima_prediction,  # Assuming arima_prediction contains the ARIMA predictions\n",
        "    'SARIMA_Prediction': sarima_prediction,  # Assuming sarima_prediction contains the SARIMA predictions\n",
        "    #'GB_Prediction': gb_prediction,  # Assuming gb_prediction contains the Gradient Boosting predictions\n",
        "    #'RF_Prediction': rf_prediction  # Assuming rf_prediction contains the Random Forest predictions\n",
        "})\n",
        "\n",
        "# Save the DataFrame to an Excel file\n",
        "df.to_excel('predictions1.xlsx', index=False)\n"
      ],
      "metadata": {
        "id": "Sl0CvU1O6iSS"
      },
      "execution_count": null,
      "outputs": []
    },
    {
      "cell_type": "code",
      "source": [
        "df1=pd.DataFrame({'GB_Prediction': gb_prediction,  # Assuming gb_prediction contains the Gradient Boosting predictions\n",
        "    'RF_Prediction': rf_prediction  # Assuming rf_prediction contains the Random Forest predictions\n",
        "})\n",
        "df1.to_excel('predictions.xlsx', index=False)"
      ],
      "metadata": {
        "id": "c6YqdV9XE-_z"
      },
      "execution_count": null,
      "outputs": []
    },
    {
      "cell_type": "code",
      "source": [
        "print(df1)"
      ],
      "metadata": {
        "colab": {
          "base_uri": "https://localhost:8080/"
        },
        "id": "7grO_BDb7q6H",
        "outputId": "1ff52e4e-7db8-40eb-d0bb-d9c3567e80f2"
      },
      "execution_count": null,
      "outputs": [
        {
          "output_type": "stream",
          "name": "stdout",
          "text": [
            "    GB_Prediction  RF_Prediction\n",
            "0      398.562324     398.617600\n",
            "1      404.015136     403.092830\n",
            "2      368.817609     367.535400\n",
            "3      384.312390     384.620800\n",
            "4      403.403513     403.472500\n",
            "5      420.439554     420.573693\n",
            "6      398.562324     398.538400\n",
            "7      424.781280     425.303733\n",
            "8      406.907844     406.983700\n",
            "9      389.592936     387.967600\n",
            "10     398.517016     398.490100\n",
            "11     382.249403     383.262000\n",
            "12     398.517016     398.499700\n",
            "13     355.365213     355.053600\n",
            "14     411.697452     411.470018\n",
            "15     415.330200     416.034859\n",
            "16     388.340591     391.524300\n",
            "17     404.439229     404.498984\n",
            "18     398.517016     398.604000\n",
            "19     404.217815     404.907800\n",
            "20     373.594314     370.781700\n",
            "21     353.156088     353.644100\n",
            "22     398.517016     398.503400\n",
            "23     359.937148     359.717900\n",
            "24     414.478496     413.971272\n",
            "25     404.974457     405.902100\n",
            "26     425.476299     425.199705\n"
          ]
        }
      ]
    },
    {
      "cell_type": "code",
      "source": [
        "import matplotlib.pyplot as plt\n",
        "\n",
        "# Plotting actual data\n",
        "plt.figure(figsize=(12, 6))\n",
        "plt.plot(data['YEAR'], data['CO2'], label='Actual')\n",
        "\n",
        "# Plotting Prophet forecast\n",
        "plt.plot(prophet_forecast['ds'], prophet_forecast['yhat'], label='Prophet Forecast')\n",
        "\n",
        "# Plotting ARIMA forecast\n",
        "arima_YEARs = pd.date_range(start=data['YEAR'].iloc[-1], periods=365)\n",
        "plt.plot(arima_YEARs, arima_forecast, label='ARIMA Forecast')\n",
        "\n",
        "# Plotting SARIMA forecast\n",
        "sarima_YEARs = pd.date_range(start=data['YEAR'].iloc[-1], periods=365)\n",
        "plt.plot(sarima_YEARs, sarima_forecast, label='SARIMA Forecast')\n",
        "\n",
        "# Plotting Gradient Boosting Regressor prediction\n",
        "plt.plot(X_test.index, gb_prediction, label='Gradient Boosting Regressor Prediction')\n",
        "\n",
        "# Plotting Random Forest Regressor prediction\n",
        "#plt.plot(X_test.index, rf_prediction, label='Random Forest Regressor Prediction')\n",
        "\n",
        "plt.xlabel('YEAR')\n",
        "plt.ylabel('CO2 Emissions')\n",
        "plt.title('CO2 Emissions Prediction')\n",
        "plt.legend()\n",
        "plt.show()\n"
      ],
      "metadata": {
        "id": "-QP8DgXLrmst"
      },
      "execution_count": null,
      "outputs": []
    },
    {
      "cell_type": "code",
      "source": [
        "import pandas as pd\n",
        "import numpy as np\n",
        "\n",
        "# Read predicted results from Excel sheet\n",
        "predicted_results = pd.read_excel('/content/iitpals_prediction.xlsx')\n",
        "\n",
        "# Extract predicted values for each model\n",
        "arima_pred = predicted_results['ARIMA_Prediction']\n",
        "sarimax_pred = predicted_results['SARIMA_Prediction']\n",
        "prophet_pred = predicted_results['Prophet_Prediction']\n",
        "random_forest_pred = predicted_results['RF_Prediction']\n",
        "gradient_descent_pred = predicted_results['GB_Prediction']\n",
        "\n",
        "# Calculate ensemble value by averaging predictions\n",
        "ensemble_pred = np.mean([arima_pred, sarimax_pred, prophet_pred, random_forest_pred, gradient_descent_pred], axis=0)\n",
        "ensemble_pred_rounded = np.round(ensemble_pred, decimals=3)\n",
        "# ensemble_pred now contains the ensemble prediction values\n",
        "print(ensemble_pred_rounded)\n"
      ],
      "metadata": {
        "colab": {
          "base_uri": "https://localhost:8080/"
        },
        "id": "nnec0wo4DrQi",
        "outputId": "56a05b03-60e6-4614-daf5-31f4cdcbdd4b"
      },
      "execution_count": null,
      "outputs": [
        {
          "output_type": "stream",
          "name": "stdout",
          "text": [
            "[416.902 416.744 416.298 415.586 415.936 416.52  416.489 415.825 415.469\n",
            " 415.681 416.139 416.76  417.521 419.088 419.186 419.633 421.097 421.773\n",
            " 422.39  423.498 424.049 425.61  426.778 427.343]\n"
          ]
        }
      ]
    },
    {
      "cell_type": "code",
      "source": [
        "import matplotlib.pyplot as plt\n",
        "\n"
      ],
      "metadata": {
        "id": "hK7VcfJYFNA8"
      },
      "execution_count": null,
      "outputs": []
    },
    {
      "cell_type": "code",
      "source": [
        "# Plotting all predictions on the same graph\n",
        "plt.figure(figsize=(10, 6))\n",
        "dates = predicted_results['Date']\n",
        "plt.plot(dates, arima_pred, label='ARIMA')\n",
        "plt.plot(dates, sarimax_pred, label='SARIMAX')\n",
        "plt.plot(dates, prophet_pred, label='Prophet')\n",
        "plt.plot(dates, random_forest_pred, label='Random Forest')\n",
        "plt.plot(dates, gradient_descent_pred, label='Gradient Descent')\n",
        "plt.plot(dates, ensemble_pred_rounded, label='Ensemble', color='black', linestyle='--')\n",
        "\n",
        "plt.title('CO2 Predictions')\n",
        "plt.xlabel('Year')\n",
        "plt.ylabel('CO2 Prediction')\n",
        "plt.ylim(300, 800)\n",
        "plt.xticks(rotation=45)   # Set y-axis range\n",
        "plt.legend()\n",
        "plt.grid(True)\n",
        "plt.show()"
      ],
      "metadata": {
        "colab": {
          "base_uri": "https://localhost:8080/",
          "height": 601
        },
        "id": "aIxcNSapHHSc",
        "outputId": "a2a5c99d-d909-43a1-eaa9-8ecd3a9ccf25"
      },
      "execution_count": null,
      "outputs": [
        {
          "output_type": "display_data",
          "data": {
            "text/plain": [
              "<Figure size 1000x600 with 1 Axes>"
            ],
            "image/png": "[encoded data removed]"
          },
          "metadata": {}
        }
      ]
    },
    {
      "cell_type": "code",
      "source": [
        "ensemble_results = pd.DataFrame({'date': dates, 'Ensemble Prediction': ensemble_pred_rounded})\n",
        "\n",
        "# Save ensemble results to Excel file\n",
        "ensemble_results.to_excel('ensemble_results.xlsx', index=False)"
      ],
      "metadata": {
        "id": "B2iRvF9vJupv"
      },
      "execution_count": null,
      "outputs": []
    }
  ]
}